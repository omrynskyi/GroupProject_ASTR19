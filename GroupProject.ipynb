{
 "cells": [
  {
   "cell_type": "markdown",
   "metadata": {},
   "source": [
    "Instructions\n",
    "\n",
    "For our small group project, we will be simulating the ocean tides in Santa Cruz. Tides oscillate from a high state, to a low state, and back to a high state roughly every twelve hours. This pattern results in two high tides and two low tides each twenty-four-hour period. Additionally, the height of the high tide and the depth of the low tide oscillate, such that one high tide and one low tide are more extreme than the other. You will use your group COPY of this template to submitLinks to an external site. your Group Tidal Report to this Canvas Assignment before the due date. \n",
    "\n",
    "1) Download this data setLinks to an external site. that lists some tidal measurements Santa Cruz in January and February 2022. In your Jupyter notebook, define an oscillatory function in Python to describe the intra- and inter-day variations in the tide. DONE - Mason \n",
    "\n",
    "2) Using the scipy library, fit the oscillatory function to the data assuming the root mean squared experimental error on the height of the tide is 0.25 ft. Document these steps in the Jupyter notebook, and graph both the model and the data on the same plot. Label the data, provide sufficient labeling of the axes to provide clarity, and have the notebook save the figure to a PDF.\n",
    "\n",
    "3) Next, have your notebook subtract off the best fit function from the data and plot the residuals. Assess graphically and mathematically deviations of the measured tidal data from the model. Plot a histogram of the residuals and measure the standard deviation. Is the scatter in the data larger than the assumed experimental error? Estimate the intrinsic scatter in the data after accounting for the assumed measurement error. Save the histogram as a PDF using our histogram best practices, including labeling of the data, axis labels, and \"reasonable\" bin widths as demonstrated in class.\n",
    "\n",
    "4) During the first high-tide of January 14, the tsunami from the underwater eruption of the Hunga Tonga-Hunga Ha'apai volcano reached the shores of Santa Cruz. The tsunami increased water levels near high tide by about 2ft. How large of a deviation is this tsunami, in terms of standard deviations of the distribution of normal tides from the model? Add a single 2ft outlier to the histogram of data and replot it as part of your Jupyter notebook."
   ]
  },
  {
   "cell_type": "code",
   "execution_count": 3,
   "metadata": {},
   "outputs": [],
   "source": [
    "import matplotlib.pyplot as plt\n",
    "import numpy as np\n",
    "from scipy.optimize import curve_fit"
   ]
  },
  {
   "cell_type": "code",
   "execution_count": 8,
   "metadata": {},
   "outputs": [],
   "source": [
    "# Load tide data from a CSV file\n",
    "with open(\"ASTR19_S22_group_project_data.txt\", \"r\") as infile:\n",
    "    tide_data = infile.read().split(\"\\n\")\n",
    "\n",
    "day = []\n",
    "time = []\n",
    "height = []\n",
    "\n",
    "\n",
    "def militaryTimeToDay(time):\n",
    "    hour, minute = map(int, time.split(\":\"))\n",
    "    return hour / 24 + minute / 1440\n",
    "\n",
    "\n",
    "for line in tide_data[3:]:\n",
    "    line = line.lstrip(\" \")\n",
    "    lineData = line.split(\" \")\n",
    "    lineData = [x for x in lineData if x != \"\"]\n",
    "    #print(lineData)\n",
    "    day.append(int(lineData[0]))\n",
    "    time.append(militaryTimeToDay(lineData[1]))\n",
    "    height.append(float(lineData[2]))\n",
    "\n",
    "# Define the X and Y arrays and Y error\n",
    "x = np.array(time)\n",
    "\n",
    "y = np.array(height)\n",
    "y_err = np.full(len(y), 0.25)\n",
    "\n",
    "\n",
    "# Define the Oscillatory function\n",
    "def oscfunc(x, a, b, c, d):\n",
    "    return a * np.sin(b * x + c) + d"
   ]
  }
 ],
 "metadata": {
  "kernelspec": {
   "display_name": ".venv",
   "language": "python",
   "name": "python3"
  },
  "language_info": {
   "codemirror_mode": {
    "name": "ipython",
    "version": 3
   },
   "file_extension": ".py",
   "mimetype": "text/x-python",
   "name": "python",
   "nbconvert_exporter": "python",
   "pygments_lexer": "ipython3",
   "version": "3.9.6"
  },
  "orig_nbformat": 4
 },
 "nbformat": 4,
 "nbformat_minor": 2
}
